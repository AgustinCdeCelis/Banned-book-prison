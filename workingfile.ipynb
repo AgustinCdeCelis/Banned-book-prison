{
 "cells": [
  {
   "cell_type": "code",
   "execution_count": 54,
   "metadata": {},
   "outputs": [],
   "source": [
    "import pandas as pd\n",
    "import numpy as np\n",
    "import re\n"
   ]
  },
  {
   "cell_type": "code",
   "execution_count": 55,
   "metadata": {},
   "outputs": [
    {
     "data": {
      "text/html": [
       "<div>\n",
       "<style scoped>\n",
       "    .dataframe tbody tr th:only-of-type {\n",
       "        vertical-align: middle;\n",
       "    }\n",
       "\n",
       "    .dataframe tbody tr th {\n",
       "        vertical-align: top;\n",
       "    }\n",
       "\n",
       "    .dataframe thead th {\n",
       "        text-align: right;\n",
       "    }\n",
       "</style>\n",
       "<table border=\"1\" class=\"dataframe\">\n",
       "  <thead>\n",
       "    <tr style=\"text-align: right;\">\n",
       "      <th></th>\n",
       "      <th>publication</th>\n",
       "      <th>author</th>\n",
       "      <th>date</th>\n",
       "      <th>year</th>\n",
       "      <th>month</th>\n",
       "      <th>day</th>\n",
       "      <th>reason</th>\n",
       "      <th>state_arc</th>\n",
       "    </tr>\n",
       "  </thead>\n",
       "  <tbody>\n",
       "    <tr>\n",
       "      <th>0</th>\n",
       "      <td>[ARABIC LANGUAGE CHARACTERS].</td>\n",
       "      <td>NaN</td>\n",
       "      <td>2019-12-18 00:00:00</td>\n",
       "      <td>2019.0</td>\n",
       "      <td>12.0</td>\n",
       "      <td>18.0</td>\n",
       "      <td>NaN</td>\n",
       "      <td>fl</td>\n",
       "    </tr>\n",
       "    <tr>\n",
       "      <th>1</th>\n",
       "      <td>[ARABIC LANGUAGE CHARACTERS]. TAJWEED QURAN.</td>\n",
       "      <td>NaN</td>\n",
       "      <td>2021-09-09 00:00:00</td>\n",
       "      <td>2021.0</td>\n",
       "      <td>9.0</td>\n",
       "      <td>9.0</td>\n",
       "      <td>NaN</td>\n",
       "      <td>fl</td>\n",
       "    </tr>\n",
       "    <tr>\n",
       "      <th>2</th>\n",
       "      <td>[KOREAN LANGUAGE CHARACTERS] HOLY SPIRIT LOVE.</td>\n",
       "      <td>NaN</td>\n",
       "      <td>2021-02-25 00:00:00</td>\n",
       "      <td>2021.0</td>\n",
       "      <td>2.0</td>\n",
       "      <td>25.0</td>\n",
       "      <td>NaN</td>\n",
       "      <td>fl</td>\n",
       "    </tr>\n",
       "    <tr>\n",
       "      <th>3</th>\n",
       "      <td>[KOREAN LANGUAGE CHARACTERS].</td>\n",
       "      <td>NaN</td>\n",
       "      <td>2021-02-25 00:00:00</td>\n",
       "      <td>2021.0</td>\n",
       "      <td>2.0</td>\n",
       "      <td>25.0</td>\n",
       "      <td>NaN</td>\n",
       "      <td>fl</td>\n",
       "    </tr>\n",
       "    <tr>\n",
       "      <th>4</th>\n",
       "      <td>[KOREAN LANGUAGE CHARACTERS].</td>\n",
       "      <td>NaN</td>\n",
       "      <td>2021-02-25 00:00:00</td>\n",
       "      <td>2021.0</td>\n",
       "      <td>2.0</td>\n",
       "      <td>25.0</td>\n",
       "      <td>NaN</td>\n",
       "      <td>fl</td>\n",
       "    </tr>\n",
       "    <tr>\n",
       "      <th>...</th>\n",
       "      <td>...</td>\n",
       "      <td>...</td>\n",
       "      <td>...</td>\n",
       "      <td>...</td>\n",
       "      <td>...</td>\n",
       "      <td>...</td>\n",
       "      <td>...</td>\n",
       "      <td>...</td>\n",
       "    </tr>\n",
       "    <tr>\n",
       "      <th>48371</th>\n",
       "      <td>Mentalism Companion</td>\n",
       "      <td>NaN</td>\n",
       "      <td>2021-08-25 00:00:00</td>\n",
       "      <td>2021.0</td>\n",
       "      <td>8.0</td>\n",
       "      <td>25.0</td>\n",
       "      <td>NaN</td>\n",
       "      <td>ri</td>\n",
       "    </tr>\n",
       "    <tr>\n",
       "      <th>48372</th>\n",
       "      <td>You Can Read Anyone, Rules of the Game</td>\n",
       "      <td>NaN</td>\n",
       "      <td>2021-09-22 00:00:00</td>\n",
       "      <td>2021.0</td>\n",
       "      <td>9.0</td>\n",
       "      <td>22.0</td>\n",
       "      <td>NaN</td>\n",
       "      <td>ri</td>\n",
       "    </tr>\n",
       "    <tr>\n",
       "      <th>48373</th>\n",
       "      <td>Sex Slave never judge a Women by her desires</td>\n",
       "      <td>NaN</td>\n",
       "      <td>2021-09-30 00:00:00</td>\n",
       "      <td>2021.0</td>\n",
       "      <td>9.0</td>\n",
       "      <td>30.0</td>\n",
       "      <td>NaN</td>\n",
       "      <td>ri</td>\n",
       "    </tr>\n",
       "    <tr>\n",
       "      <th>48374</th>\n",
       "      <td>Moorish American Civics Guide</td>\n",
       "      <td>NaN</td>\n",
       "      <td>2021-09-30 00:00:00</td>\n",
       "      <td>2021.0</td>\n",
       "      <td>9.0</td>\n",
       "      <td>30.0</td>\n",
       "      <td>NaN</td>\n",
       "      <td>ri</td>\n",
       "    </tr>\n",
       "    <tr>\n",
       "      <th>48375</th>\n",
       "      <td>Anacarchism and Black Revoultion</td>\n",
       "      <td>NaN</td>\n",
       "      <td>2022-02-04 00:00:00</td>\n",
       "      <td>2022.0</td>\n",
       "      <td>2.0</td>\n",
       "      <td>4.0</td>\n",
       "      <td>NaN</td>\n",
       "      <td>ri</td>\n",
       "    </tr>\n",
       "  </tbody>\n",
       "</table>\n",
       "<p>48376 rows × 8 columns</p>\n",
       "</div>"
      ],
      "text/plain": [
       "                                           publication author  \\\n",
       "0                       [ARABIC LANGUAGE CHARACTERS].     NaN   \n",
       "1         [ARABIC LANGUAGE CHARACTERS]. TAJWEED QURAN.    NaN   \n",
       "2      [KOREAN LANGUAGE CHARACTERS] HOLY SPIRIT LOVE.     NaN   \n",
       "3                        [KOREAN LANGUAGE CHARACTERS].    NaN   \n",
       "4                       [KOREAN LANGUAGE CHARACTERS].     NaN   \n",
       "...                                                ...    ...   \n",
       "48371                              Mentalism Companion    NaN   \n",
       "48372           You Can Read Anyone, Rules of the Game    NaN   \n",
       "48373    Sex Slave never judge a Women by her desires     NaN   \n",
       "48374                   Moorish American Civics Guide     NaN   \n",
       "48375                 Anacarchism and Black Revoultion    NaN   \n",
       "\n",
       "                      date    year  month   day reason state_arc  \n",
       "0      2019-12-18 00:00:00  2019.0   12.0  18.0    NaN        fl  \n",
       "1      2021-09-09 00:00:00  2021.0    9.0   9.0    NaN        fl  \n",
       "2      2021-02-25 00:00:00  2021.0    2.0  25.0    NaN        fl  \n",
       "3      2021-02-25 00:00:00  2021.0    2.0  25.0    NaN        fl  \n",
       "4      2021-02-25 00:00:00  2021.0    2.0  25.0    NaN        fl  \n",
       "...                    ...     ...    ...   ...    ...       ...  \n",
       "48371  2021-08-25 00:00:00  2021.0    8.0  25.0    NaN        ri  \n",
       "48372  2021-09-22 00:00:00  2021.0    9.0  22.0    NaN        ri  \n",
       "48373  2021-09-30 00:00:00  2021.0    9.0  30.0    NaN        ri  \n",
       "48374  2021-09-30 00:00:00  2021.0    9.0  30.0    NaN        ri  \n",
       "48375  2022-02-04 00:00:00  2022.0    2.0   4.0    NaN        ri  \n",
       "\n",
       "[48376 rows x 8 columns]"
      ]
     },
     "execution_count": 55,
     "metadata": {},
     "output_type": "execute_result"
    }
   ],
   "source": [
    "df = pd.read_csv('banned_book_data_combined_lists.csv')\n",
    "\n",
    "df"
   ]
  },
  {
   "cell_type": "code",
   "execution_count": 56,
   "metadata": {},
   "outputs": [
    {
     "data": {
      "text/html": [
       "<div>\n",
       "<style scoped>\n",
       "    .dataframe tbody tr th:only-of-type {\n",
       "        vertical-align: middle;\n",
       "    }\n",
       "\n",
       "    .dataframe tbody tr th {\n",
       "        vertical-align: top;\n",
       "    }\n",
       "\n",
       "    .dataframe thead th {\n",
       "        text-align: right;\n",
       "    }\n",
       "</style>\n",
       "<table border=\"1\" class=\"dataframe\">\n",
       "  <thead>\n",
       "    <tr style=\"text-align: right;\">\n",
       "      <th></th>\n",
       "      <th>year</th>\n",
       "      <th>month</th>\n",
       "      <th>day</th>\n",
       "    </tr>\n",
       "  </thead>\n",
       "  <tbody>\n",
       "    <tr>\n",
       "      <th>count</th>\n",
       "      <td>40778.000000</td>\n",
       "      <td>40750.000000</td>\n",
       "      <td>40366.000000</td>\n",
       "    </tr>\n",
       "    <tr>\n",
       "      <th>mean</th>\n",
       "      <td>2013.561945</td>\n",
       "      <td>6.397399</td>\n",
       "      <td>15.374548</td>\n",
       "    </tr>\n",
       "    <tr>\n",
       "      <th>std</th>\n",
       "      <td>6.689495</td>\n",
       "      <td>3.357321</td>\n",
       "      <td>8.767688</td>\n",
       "    </tr>\n",
       "    <tr>\n",
       "      <th>min</th>\n",
       "      <td>1815.000000</td>\n",
       "      <td>1.000000</td>\n",
       "      <td>1.000000</td>\n",
       "    </tr>\n",
       "    <tr>\n",
       "      <th>25%</th>\n",
       "      <td>2010.000000</td>\n",
       "      <td>3.000000</td>\n",
       "      <td>8.000000</td>\n",
       "    </tr>\n",
       "    <tr>\n",
       "      <th>50%</th>\n",
       "      <td>2015.000000</td>\n",
       "      <td>6.000000</td>\n",
       "      <td>15.000000</td>\n",
       "    </tr>\n",
       "    <tr>\n",
       "      <th>75%</th>\n",
       "      <td>2019.000000</td>\n",
       "      <td>9.000000</td>\n",
       "      <td>23.000000</td>\n",
       "    </tr>\n",
       "    <tr>\n",
       "      <th>max</th>\n",
       "      <td>2022.000000</td>\n",
       "      <td>12.000000</td>\n",
       "      <td>31.000000</td>\n",
       "    </tr>\n",
       "  </tbody>\n",
       "</table>\n",
       "</div>"
      ],
      "text/plain": [
       "               year         month           day\n",
       "count  40778.000000  40750.000000  40366.000000\n",
       "mean    2013.561945      6.397399     15.374548\n",
       "std        6.689495      3.357321      8.767688\n",
       "min     1815.000000      1.000000      1.000000\n",
       "25%     2010.000000      3.000000      8.000000\n",
       "50%     2015.000000      6.000000     15.000000\n",
       "75%     2019.000000      9.000000     23.000000\n",
       "max     2022.000000     12.000000     31.000000"
      ]
     },
     "execution_count": 56,
     "metadata": {},
     "output_type": "execute_result"
    }
   ],
   "source": [
    "df.describe()"
   ]
  },
  {
   "cell_type": "code",
   "execution_count": 57,
   "metadata": {},
   "outputs": [
    {
     "name": "stdout",
     "output_type": "stream",
     "text": [
      "<class 'pandas.core.frame.DataFrame'>\n",
      "RangeIndex: 48376 entries, 0 to 48375\n",
      "Data columns (total 8 columns):\n",
      " #   Column       Non-Null Count  Dtype  \n",
      "---  ------       --------------  -----  \n",
      " 0   publication  48376 non-null  object \n",
      " 1   author       16639 non-null  object \n",
      " 2   date         40750 non-null  object \n",
      " 3   year         40778 non-null  float64\n",
      " 4   month        40750 non-null  float64\n",
      " 5   day          40366 non-null  float64\n",
      " 6   reason       23350 non-null  object \n",
      " 7   state_arc    48376 non-null  object \n",
      "dtypes: float64(3), object(5)\n",
      "memory usage: 3.0+ MB\n"
     ]
    }
   ],
   "source": [
    "df.info()"
   ]
  },
  {
   "cell_type": "code",
   "execution_count": 58,
   "metadata": {},
   "outputs": [
    {
     "data": {
      "text/plain": [
       "publication        0\n",
       "author         31737\n",
       "date            7626\n",
       "year            7598\n",
       "month           7626\n",
       "day             8010\n",
       "reason         25026\n",
       "state_arc          0\n",
       "dtype: int64"
      ]
     },
     "execution_count": 58,
     "metadata": {},
     "output_type": "execute_result"
    }
   ],
   "source": [
    "df.isnull().sum()"
   ]
  },
  {
   "cell_type": "code",
   "execution_count": 59,
   "metadata": {},
   "outputs": [
    {
     "data": {
      "text/plain": [
       "PLAYBOY                    155\n",
       "PENTHOUSE                  131\n",
       "TATTOO                     109\n",
       "MAXIM                      108\n",
       "PENTHOUSE LETTERS          101\n",
       "HEAVY METAL                101\n",
       "FOX                         85\n",
       "HUSTLER                     79\n",
       "GUIDE, THE                  77\n",
       "JUXTAPOZ                    73\n",
       "PLAYERS GIRLS PICTORIAL     70\n",
       "HIGH SOCIETY                68\n",
       "BLACK BELT                  65\n",
       "GALLERY                     62\n",
       "BIKER                       61\n",
       "EASYRIDERS                  55\n",
       "CHERI                       53\n",
       "THE FINAL CALL              52\n",
       "SKIN AND INK                51\n",
       "BLACK TAIL                  51\n",
       "Name: publication, dtype: int64"
      ]
     },
     "execution_count": 59,
     "metadata": {},
     "output_type": "execute_result"
    }
   ],
   "source": [
    "df['publication'].value_counts().head(20)"
   ]
  },
  {
   "cell_type": "code",
   "execution_count": 60,
   "metadata": {},
   "outputs": [
    {
     "data": {
      "text/plain": [
       "Gorillaz In The Bay 4, The Conclusion                                           1\n",
       "GOODNIGNT PUNPUN, VOLUME 7                                                      1\n",
       "FROM STREET ART TO FINE ART, BLACK & GREY TATTOO 1                              1\n",
       "GOODNIGHT PUN PUN, VOLUME 5                                                     1\n",
       "FROM STREET ART TO FINE ART-BLACK & WHITE TATTOO 1-3                            1\n",
       "GANGS AND THEIR TATTOOS: IDENTIFYING GANGBANGERS ON THE STREET AND IN PRISON    1\n",
       "Gantz Omnibus 1                                                                 1\n",
       "GENTLEMAN OF LEISURE                                                            1\n",
       "Getting Off, A Novel of Sex & Violence                                          1\n",
       "GIL ELVGREN, ALL HIS GLAMOROUS AMERICAN PIN-UPS                                 1\n",
       "Girl Friends, The Complete Collection 2                                         1\n",
       "GIRLS KISSING, VOLUME 1                                                         1\n",
       "Gleipnir Vol 4                                                                  1\n",
       "Gleipnir Vol 5                                                                  1\n",
       "Go Down Together, The True, Untold Story of Bonnie & Clyde Destruction          1\n",
       "Goblin Slayer, Volume 3                                                         1\n",
       "GODDESS OF THE GLASS, VOLUME 1                                                  1\n",
       "GOD'S GIVEN TALENTS, FOR THE PEOPLE, BY THE PEOPLE                              1\n",
       "Gonzo Gizmos, Projects & Devices to Channel Your Inner Geek                     1\n",
       "Anacarchism and Black Revoultion                                                1\n",
       "Name: publication, dtype: int64"
      ]
     },
     "execution_count": 60,
     "metadata": {},
     "output_type": "execute_result"
    }
   ],
   "source": [
    "df['publication'].value_counts().tail(20)"
   ]
  },
  {
   "cell_type": "code",
   "execution_count": 65,
   "metadata": {},
   "outputs": [],
   "source": [
    "# Create a new column called \"language\" that is \"arabic\" if the value in \"publication\" contains the string \"arab\" (ignoring case)\n",
    "#df[\"language\"] = df[\"publication\"].apply(lambda val: \"arabic\" if 'arab' in val.lower() else None)\n",
    "\n",
    "\n",
    "df[\"language\"] = df[\"publication\"].apply(lambda val: \n",
    "  \"arabic\" if 'arab' in val.lower() else\n",
    "  \"korean\" if 'korean' in val.lower() else\n",
    "  \"chinese\" if 'chinese' in val.lower() else\n",
    "  None\n",
    ")"
   ]
  },
  {
   "cell_type": "code",
   "execution_count": 66,
   "metadata": {},
   "outputs": [
    {
     "data": {
      "text/plain": [
       "arabic     78\n",
       "chinese    40\n",
       "korean     12\n",
       "Name: language, dtype: int64"
      ]
     },
     "execution_count": 66,
     "metadata": {},
     "output_type": "execute_result"
    }
   ],
   "source": [
    "df['language'].value_counts()"
   ]
  },
  {
   "cell_type": "code",
   "execution_count": 74,
   "metadata": {},
   "outputs": [
    {
     "data": {
      "text/plain": [
       "992"
      ]
     },
     "execution_count": 74,
     "metadata": {},
     "output_type": "execute_result"
    }
   ],
   "source": [
    "#df['language'].str.contains('sex')\n",
    "\n",
    "sex_rows = df.loc[df[\"publication\"].str.contains('sex', flags=re.IGNORECASE)].index\n",
    "\n",
    "len(sex_rows)"
   ]
  },
  {
   "cell_type": "code",
   "execution_count": 63,
   "metadata": {},
   "outputs": [
    {
     "data": {
      "text/plain": [
       "NONE                       452\n",
       "ENNIS, GARTH                46\n",
       "Zane                        29\n",
       "Penthouse International     27\n",
       "GAIMAN, NEIL                27\n",
       "CHIA, MANTAK                26\n",
       "GHOST                       24\n",
       "Silk White                  24\n",
       "OKAYADO                     24\n",
       "VAUGHAN, BRIAN              24\n",
       "RAND MCNALLY                23\n",
       "NATIONAL GEOGRAPHIC         23\n",
       "ROYO, LUIS                  23\n",
       "Anonymous                   20\n",
       "editors of Penthouse        20\n",
       "KOIKE, KAZUO                20\n",
       "MOORE, ALAN                 19\n",
       "ANONYMOUS                   19\n",
       "TAMAKI, NOZOMU              19\n",
       "ASHLEY & JAQUAVIS           19\n",
       "Name: author, dtype: int64"
      ]
     },
     "execution_count": 63,
     "metadata": {},
     "output_type": "execute_result"
    }
   ],
   "source": [
    "df['author'].value_counts().head(20)"
   ]
  },
  {
   "cell_type": "code",
   "execution_count": 64,
   "metadata": {},
   "outputs": [
    {
     "data": {
      "text/plain": [
       "fl    20202\n",
       "tx     9396\n",
       "az     4632\n",
       "va     2553\n",
       "wi     2281\n",
       "or     1780\n",
       "ct     1659\n",
       "sc     1509\n",
       "ca     1424\n",
       "mi      974\n",
       "nc      600\n",
       "ia      431\n",
       "mt      374\n",
       "nj      232\n",
       "il      134\n",
       "ks       99\n",
       "ri       68\n",
       "ga       28\n",
       "Name: state_arc, dtype: int64"
      ]
     },
     "execution_count": 64,
     "metadata": {},
     "output_type": "execute_result"
    }
   ],
   "source": [
    "df['state_arc'].value_counts()"
   ]
  }
 ],
 "metadata": {
  "kernelspec": {
   "display_name": "Python 3",
   "language": "python",
   "name": "python3"
  },
  "language_info": {
   "codemirror_mode": {
    "name": "ipython",
    "version": 3
   },
   "file_extension": ".py",
   "mimetype": "text/x-python",
   "name": "python",
   "nbconvert_exporter": "python",
   "pygments_lexer": "ipython3",
   "version": "3.10.4"
  },
  "orig_nbformat": 4,
  "vscode": {
   "interpreter": {
    "hash": "f2ccb58c476f33ba3e3aee7ac07234ef6b8217ef24ad64d2a7d4fed1a57c1cd2"
   }
  }
 },
 "nbformat": 4,
 "nbformat_minor": 2
}
